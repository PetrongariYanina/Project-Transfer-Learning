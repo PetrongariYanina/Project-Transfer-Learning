import pandas as pd



# Ver las primeras líneas del archivo para identificar el delimitador
with open('/home/reboot-student/code/Project-Transfer-Learning/tweets_politica_kaggle.csv', 'r') as file:
    for i in range(5):  # Mostrar las primeras 5 líneas
        print(file.readline())



import pandas as pd

csv_file_path = '/home/reboot-student/code/Project-Transfer-Learning/tweets_politica_kaggle.csv'

df = pd.read_csv(csv_file_path, delimiter='\t', on_bad_lines='skip')

df



df = df.drop(columns=['cuenta', 'timestamp'])
df


df_conteo = df.groupby('partido')['tweet'].count().reset_index()


import matplotlib.pyplot as plt

plt.pie(df_conteo['tweet'], labels=df_conteo['partido'], autopct='%1.1f%%')
plt.show()


import re
import unidecode
from tqdm import tqdm

def clean_tweet(tweet):
    tweet = tweet.lower()
    tweet = unidecode.unidecode(tweet)  # Normalizar caracteres con tildes
    tweet = re.sub(r'http\S+', '', tweet)  # Eliminar URLs
    tweet = re.sub(r'@\w+', '', tweet)  # Eliminar menciones
    tweet = re.sub(r'#\w+', '', tweet)  # Eliminar hashtags
    tweet = re.sub(r'[^\w\s]', '', tweet)  # Eliminar caracteres especiales
    return tweet.strip()

tqdm.pandas()
df['clean_tweet'] = df['tweet'].progress_apply(clean_tweet)


df[['partido', 'clean_tweet']].sample(5)


df.to_csv('cleaned_dataset.csv', index=False)


df.isnull().sum()
