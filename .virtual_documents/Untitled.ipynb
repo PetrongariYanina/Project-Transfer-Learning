import pandas as pd



# Ver las primeras líneas del archivo para identificar el delimitador
with open('/home/reboot-student/code/Project-Transfer-Learning/tweets_politica_kaggle.csv', 'r') as file:
    for i in range(5):  # Mostrar las primeras 5 líneas
        print(file.readline())



import pandas as pd

csv_file_path = '/home/reboot-student/code/Project-Transfer-Learning/tweets_politica_kaggle.csv'

df = pd.read_csv(csv_file_path, delimiter='\t', on_bad_lines='skip')

df




